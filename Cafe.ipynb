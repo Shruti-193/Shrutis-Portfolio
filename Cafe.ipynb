{
 "cells": [
  {
   "cell_type": "code",
   "execution_count": 1,
   "id": "b3055548-72ae-4401-adf1-2c0648ddf712",
   "metadata": {},
   "outputs": [],
   "source": [
    "import pandas as pd\n",
    "import numpy as np\n",
    "import matplotlib.pyplot as plt\n",
    "import seaborn as sns\n"
   ]
  },
  {
   "cell_type": "code",
   "execution_count": 2,
   "id": "fab4803b-9a93-4e42-b36a-50df394fa436",
   "metadata": {},
   "outputs": [],
   "source": [
    "data=pd.read_csv('dirty_cafe_sales.csv')"
   ]
  },
  {
   "cell_type": "code",
   "execution_count": 3,
   "id": "2afc3c87-1c89-4454-b747-f57af88ed50d",
   "metadata": {},
   "outputs": [
    {
     "data": {
      "text/html": [
       "<div>\n",
       "<style scoped>\n",
       "    .dataframe tbody tr th:only-of-type {\n",
       "        vertical-align: middle;\n",
       "    }\n",
       "\n",
       "    .dataframe tbody tr th {\n",
       "        vertical-align: top;\n",
       "    }\n",
       "\n",
       "    .dataframe thead th {\n",
       "        text-align: right;\n",
       "    }\n",
       "</style>\n",
       "<table border=\"1\" class=\"dataframe\">\n",
       "  <thead>\n",
       "    <tr style=\"text-align: right;\">\n",
       "      <th></th>\n",
       "      <th>Transaction ID</th>\n",
       "      <th>Item</th>\n",
       "      <th>Quantity</th>\n",
       "      <th>Price Per Unit</th>\n",
       "      <th>Total Spent</th>\n",
       "      <th>Payment Method</th>\n",
       "      <th>Location</th>\n",
       "      <th>Transaction Date</th>\n",
       "    </tr>\n",
       "  </thead>\n",
       "  <tbody>\n",
       "    <tr>\n",
       "      <th>0</th>\n",
       "      <td>TXN_1961373</td>\n",
       "      <td>Coffee</td>\n",
       "      <td>2</td>\n",
       "      <td>2.0</td>\n",
       "      <td>4.0</td>\n",
       "      <td>Credit Card</td>\n",
       "      <td>Takeaway</td>\n",
       "      <td>2023-09-08</td>\n",
       "    </tr>\n",
       "    <tr>\n",
       "      <th>1</th>\n",
       "      <td>TXN_4977031</td>\n",
       "      <td>Cake</td>\n",
       "      <td>4</td>\n",
       "      <td>3.0</td>\n",
       "      <td>12.0</td>\n",
       "      <td>Cash</td>\n",
       "      <td>In-store</td>\n",
       "      <td>2023-05-16</td>\n",
       "    </tr>\n",
       "    <tr>\n",
       "      <th>2</th>\n",
       "      <td>TXN_4271903</td>\n",
       "      <td>Cookie</td>\n",
       "      <td>4</td>\n",
       "      <td>1.0</td>\n",
       "      <td>ERROR</td>\n",
       "      <td>Credit Card</td>\n",
       "      <td>In-store</td>\n",
       "      <td>2023-07-19</td>\n",
       "    </tr>\n",
       "    <tr>\n",
       "      <th>3</th>\n",
       "      <td>TXN_7034554</td>\n",
       "      <td>Salad</td>\n",
       "      <td>2</td>\n",
       "      <td>5.0</td>\n",
       "      <td>10.0</td>\n",
       "      <td>UNKNOWN</td>\n",
       "      <td>UNKNOWN</td>\n",
       "      <td>2023-04-27</td>\n",
       "    </tr>\n",
       "    <tr>\n",
       "      <th>4</th>\n",
       "      <td>TXN_3160411</td>\n",
       "      <td>Coffee</td>\n",
       "      <td>2</td>\n",
       "      <td>2.0</td>\n",
       "      <td>4.0</td>\n",
       "      <td>Digital Wallet</td>\n",
       "      <td>In-store</td>\n",
       "      <td>2023-06-11</td>\n",
       "    </tr>\n",
       "  </tbody>\n",
       "</table>\n",
       "</div>"
      ],
      "text/plain": [
       "  Transaction ID    Item Quantity Price Per Unit Total Spent  Payment Method  \\\n",
       "0    TXN_1961373  Coffee        2            2.0         4.0     Credit Card   \n",
       "1    TXN_4977031    Cake        4            3.0        12.0            Cash   \n",
       "2    TXN_4271903  Cookie        4            1.0       ERROR     Credit Card   \n",
       "3    TXN_7034554   Salad        2            5.0        10.0         UNKNOWN   \n",
       "4    TXN_3160411  Coffee        2            2.0         4.0  Digital Wallet   \n",
       "\n",
       "   Location Transaction Date  \n",
       "0  Takeaway       2023-09-08  \n",
       "1  In-store       2023-05-16  \n",
       "2  In-store       2023-07-19  \n",
       "3   UNKNOWN       2023-04-27  \n",
       "4  In-store       2023-06-11  "
      ]
     },
     "execution_count": 3,
     "metadata": {},
     "output_type": "execute_result"
    }
   ],
   "source": [
    "data.head()"
   ]
  },
  {
   "cell_type": "code",
   "execution_count": 4,
   "id": "5ba16e23-f500-42dd-9918-75a3e2778498",
   "metadata": {},
   "outputs": [
    {
     "name": "stdout",
     "output_type": "stream",
     "text": [
      "<class 'pandas.core.frame.DataFrame'>\n",
      "RangeIndex: 10000 entries, 0 to 9999\n",
      "Data columns (total 8 columns):\n",
      " #   Column            Non-Null Count  Dtype \n",
      "---  ------            --------------  ----- \n",
      " 0   Transaction ID    10000 non-null  object\n",
      " 1   Item              9667 non-null   object\n",
      " 2   Quantity          9862 non-null   object\n",
      " 3   Price Per Unit    9821 non-null   object\n",
      " 4   Total Spent       9827 non-null   object\n",
      " 5   Payment Method    7421 non-null   object\n",
      " 6   Location          6735 non-null   object\n",
      " 7   Transaction Date  9841 non-null   object\n",
      "dtypes: object(8)\n",
      "memory usage: 625.1+ KB\n"
     ]
    }
   ],
   "source": [
    "data.info()"
   ]
  },
  {
   "cell_type": "code",
   "execution_count": 5,
   "id": "328dcbc8-d6f1-4832-bc86-131aca7bd062",
   "metadata": {},
   "outputs": [
    {
     "name": "stdout",
     "output_type": "stream",
     "text": [
      "<class 'pandas.core.frame.DataFrame'>\n",
      "RangeIndex: 10000 entries, 0 to 9999\n",
      "Data columns (total 8 columns):\n",
      " #   Column            Non-Null Count  Dtype         \n",
      "---  ------            --------------  -----         \n",
      " 0   Transaction ID    10000 non-null  object        \n",
      " 1   Item              9667 non-null   category      \n",
      " 2   Quantity          9521 non-null   float64       \n",
      " 3   Price Per Unit    9467 non-null   float64       \n",
      " 4   Total Spent       9498 non-null   float64       \n",
      " 5   Payment Method    7421 non-null   category      \n",
      " 6   Location          6735 non-null   category      \n",
      " 7   Transaction Date  9540 non-null   datetime64[ns]\n",
      "dtypes: category(3), datetime64[ns](1), float64(3), object(1)\n",
      "memory usage: 420.8+ KB\n"
     ]
    }
   ],
   "source": [
    "# Change Required Datatype\n",
    "data['Quantity']=pd.to_numeric(data['Quantity'], errors=\"coerce\")\n",
    "data['Price Per Unit']=pd.to_numeric(data['Price Per Unit'], errors=\"coerce\")\n",
    "data['Total Spent']=pd.to_numeric(data['Total Spent'], errors=\"coerce\")\n",
    "data['Transaction Date']=pd.to_datetime(data['Transaction Date'], errors=\"coerce\")\n",
    "\n",
    "#Change Categorial Datatype\n",
    "data['Item']=data['Item'].astype('category')\n",
    "data['Payment Method']=data['Payment Method'].astype('category')\n",
    "data['Location']=data['Location'].astype('category')\n",
    "\n",
    "\n",
    "data.info()"
   ]
  },
  {
   "cell_type": "code",
   "execution_count": 6,
   "id": "d0ba1cf0-3186-465a-89da-e1e83f26b0cf",
   "metadata": {},
   "outputs": [
    {
     "name": "stdout",
     "output_type": "stream",
     "text": [
      "  Transaction ID    Item  Quantity  Price Per Unit  Total Spent  \\\n",
      "0    TXN_1961373  Coffee       2.0             2.0          4.0   \n",
      "1    TXN_4977031    Cake       4.0             3.0         12.0   \n",
      "2    TXN_4271903  Cookie       4.0             1.0          NaN   \n",
      "3    TXN_7034554   Salad       2.0             5.0         10.0   \n",
      "4    TXN_3160411  Coffee       2.0             2.0          4.0   \n",
      "\n",
      "   Payment Method  Location Transaction Date  \n",
      "0     Credit Card  Takeaway       2023-09-08  \n",
      "1            Cash  In-store       2023-05-16  \n",
      "2     Credit Card  In-store       2023-07-19  \n",
      "3             NaN       NaN       2023-04-27  \n",
      "4  Digital Wallet  In-store       2023-06-11  \n"
     ]
    },
    {
     "name": "stderr",
     "output_type": "stream",
     "text": [
      "C:\\Users\\cex\\AppData\\Local\\Temp\\ipykernel_14376\\3291839033.py:1: FutureWarning: The behavior of Series.replace (and DataFrame.replace) with CategoricalDtype is deprecated. In a future version, replace will only be used for cases that preserve the categories. To change the categories, use ser.cat.rename_categories instead.\n",
      "  data.replace([\"ERROR\", \"UNKNOWN\"], np.nan, inplace=True)\n"
     ]
    }
   ],
   "source": [
    "data.replace([\"ERROR\", \"UNKNOWN\"], np.nan, inplace=True)\n",
    "print(data.head())"
   ]
  },
  {
   "cell_type": "code",
   "execution_count": 7,
   "id": "dee7047d-cc74-4360-90e3-75e66b1a1f29",
   "metadata": {},
   "outputs": [
    {
     "data": {
      "text/plain": [
       "Transaction ID         0\n",
       "Item                 969\n",
       "Quantity             479\n",
       "Price Per Unit       533\n",
       "Total Spent          502\n",
       "Payment Method      3178\n",
       "Location            3961\n",
       "Transaction Date     460\n",
       "dtype: int64"
      ]
     },
     "execution_count": 7,
     "metadata": {},
     "output_type": "execute_result"
    }
   ],
   "source": [
    "data.isna().sum()"
   ]
  },
  {
   "cell_type": "code",
   "execution_count": 8,
   "id": "2a530cab-ee49-4f49-b0f1-c4f79a3be156",
   "metadata": {},
   "outputs": [],
   "source": [
    "data[\"Total Spent\"] = data[\"Total Spent\"].fillna(\n",
    "        (data[\"Quantity\"] * data[\"Price Per Unit\"]).where(data[\"Quantity\"].notna() & data[\"Price Per Unit\"].notna()))\n",
    "\n",
    "data[\"Price Per Unit\"] = data[\"Price Per Unit\"].fillna(\n",
    "        (data[\"Total Spent\"] / data[\"Quantity\"]).where(data[\"Total Spent\"].notna() & data[\"Quantity\"].notna()))\n",
    "\n",
    "data[\"Quantity\"] = data[\"Quantity\"].fillna(\n",
    "        (data[\"Total Spent\"] / data[\"Price Per Unit\"]).where(data[\"Total Spent\"].notna() & data[\"Price Per Unit\"].notna()))\n"
   ]
  },
  {
   "cell_type": "code",
   "execution_count": 9,
   "id": "2ea54eaf-4a67-409e-a74f-b99e24277f96",
   "metadata": {},
   "outputs": [
    {
     "data": {
      "text/plain": [
       "Transaction ID         0\n",
       "Item                 969\n",
       "Quantity              38\n",
       "Price Per Unit        38\n",
       "Total Spent           40\n",
       "Payment Method      3178\n",
       "Location            3961\n",
       "Transaction Date     460\n",
       "dtype: int64"
      ]
     },
     "execution_count": 9,
     "metadata": {},
     "output_type": "execute_result"
    }
   ],
   "source": [
    "data.isnull().sum()"
   ]
  },
  {
   "cell_type": "markdown",
   "id": "1c786516-f92f-4f6b-910e-3accda6a47fd",
   "metadata": {},
   "source": [
    "### Let's count the unique values in the ‘Item’ variable, find their price per unit. Let's also calculate how many units of each product were sold on average.\n",
    "\n"
   ]
  },
  {
   "cell_type": "code",
   "execution_count": 11,
   "id": "62895263-8108-410a-bcbc-ad2542aaa610",
   "metadata": {},
   "outputs": [
    {
     "name": "stderr",
     "output_type": "stream",
     "text": [
      "C:\\Users\\cex\\AppData\\Local\\Temp\\ipykernel_14376\\1136114919.py:1: FutureWarning: The default of observed=False is deprecated and will be changed to True in a future version of pandas. Pass observed=False to retain current behavior or observed=True to adopt the future default and silence this warning.\n",
      "  data.groupby(\"Item\").agg({\"Price Per Unit\" :\"mean\",\n"
     ]
    },
    {
     "data": {
      "text/html": [
       "<div>\n",
       "<style scoped>\n",
       "    .dataframe tbody tr th:only-of-type {\n",
       "        vertical-align: middle;\n",
       "    }\n",
       "\n",
       "    .dataframe tbody tr th {\n",
       "        vertical-align: top;\n",
       "    }\n",
       "\n",
       "    .dataframe thead th {\n",
       "        text-align: right;\n",
       "    }\n",
       "</style>\n",
       "<table border=\"1\" class=\"dataframe\">\n",
       "  <thead>\n",
       "    <tr style=\"text-align: right;\">\n",
       "      <th></th>\n",
       "      <th>Price Per Unit</th>\n",
       "      <th>Quantity</th>\n",
       "    </tr>\n",
       "    <tr>\n",
       "      <th>Item</th>\n",
       "      <th></th>\n",
       "      <th></th>\n",
       "    </tr>\n",
       "  </thead>\n",
       "  <tbody>\n",
       "    <tr>\n",
       "      <th>Cake</th>\n",
       "      <td>3.0</td>\n",
       "      <td>3.050220</td>\n",
       "    </tr>\n",
       "    <tr>\n",
       "      <th>Coffee</th>\n",
       "      <td>2.0</td>\n",
       "      <td>3.049180</td>\n",
       "    </tr>\n",
       "    <tr>\n",
       "      <th>Cookie</th>\n",
       "      <td>1.0</td>\n",
       "      <td>2.969641</td>\n",
       "    </tr>\n",
       "    <tr>\n",
       "      <th>Juice</th>\n",
       "      <td>3.0</td>\n",
       "      <td>3.000856</td>\n",
       "    </tr>\n",
       "    <tr>\n",
       "      <th>Salad</th>\n",
       "      <td>5.0</td>\n",
       "      <td>3.028821</td>\n",
       "    </tr>\n",
       "    <tr>\n",
       "      <th>Sandwich</th>\n",
       "      <td>4.0</td>\n",
       "      <td>3.040853</td>\n",
       "    </tr>\n",
       "    <tr>\n",
       "      <th>Smoothie</th>\n",
       "      <td>4.0</td>\n",
       "      <td>3.049451</td>\n",
       "    </tr>\n",
       "    <tr>\n",
       "      <th>Tea</th>\n",
       "      <td>1.5</td>\n",
       "      <td>3.036900</td>\n",
       "    </tr>\n",
       "  </tbody>\n",
       "</table>\n",
       "</div>"
      ],
      "text/plain": [
       "          Price Per Unit  Quantity\n",
       "Item                              \n",
       "Cake                 3.0  3.050220\n",
       "Coffee               2.0  3.049180\n",
       "Cookie               1.0  2.969641\n",
       "Juice                3.0  3.000856\n",
       "Salad                5.0  3.028821\n",
       "Sandwich             4.0  3.040853\n",
       "Smoothie             4.0  3.049451\n",
       "Tea                  1.5  3.036900"
      ]
     },
     "execution_count": 11,
     "metadata": {},
     "output_type": "execute_result"
    }
   ],
   "source": [
    "data.groupby(\"Item\").agg({\"Price Per Unit\" :\"mean\",\n",
    "                        \"Quantity\": \"mean\"})\n"
   ]
  },
  {
   "cell_type": "code",
   "execution_count": 12,
   "id": "a15fc126-bd30-436f-9e48-aa5cb9ef3270",
   "metadata": {},
   "outputs": [
    {
     "name": "stderr",
     "output_type": "stream",
     "text": [
      "C:\\Users\\cex\\AppData\\Local\\Temp\\ipykernel_14376\\2727793984.py:2: FutureWarning: The default of observed=False is deprecated and will be changed to True in a future version of pandas. Pass observed=False to retain current behavior or observed=True to adopt the future default and silence this warning.\n",
      "  data.loc[data[\"Quantity\"].isnull(), \"Quantity\"] = data.groupby(\"Item\")[\"Quantity\"].transform(\"mean\")\n",
      "C:\\Users\\cex\\AppData\\Local\\Temp\\ipykernel_14376\\2727793984.py:3: FutureWarning: The default of observed=False is deprecated and will be changed to True in a future version of pandas. Pass observed=False to retain current behavior or observed=True to adopt the future default and silence this warning.\n",
      "  data.loc[data[\"Price Per Unit\"].isnull(), \"Price Per Unit\"] = data.groupby(\"Item\")[\"Price Per Unit\"].transform(\"mean\")\n",
      "C:\\Users\\cex\\AppData\\Local\\Temp\\ipykernel_14376\\2727793984.py:4: FutureWarning: The default of observed=False is deprecated and will be changed to True in a future version of pandas. Pass observed=False to retain current behavior or observed=True to adopt the future default and silence this warning.\n",
      "  data.loc[data[\"Total Spent\"].isnull(), \"Total Spent\"] = data.groupby(\"Item\")[\"Total Spent\"].transform(\"mean\")\n"
     ]
    },
    {
     "data": {
      "text/plain": [
       "Transaction ID         0\n",
       "Item                 969\n",
       "Quantity               3\n",
       "Price Per Unit         6\n",
       "Total Spent            3\n",
       "Payment Method      3178\n",
       "Location            3961\n",
       "Transaction Date     460\n",
       "dtype: int64"
      ]
     },
     "execution_count": 12,
     "metadata": {},
     "output_type": "execute_result"
    }
   ],
   "source": [
    "#data['Quantity'].fillna(data.groupby('Item')['Quantity'].mean(numeric_only=True), inplace=True)\n",
    "data.loc[data[\"Quantity\"].isnull(), \"Quantity\"] = data.groupby(\"Item\")[\"Quantity\"].transform(\"mean\")\n",
    "data.loc[data[\"Price Per Unit\"].isnull(), \"Price Per Unit\"] = data.groupby(\"Item\")[\"Price Per Unit\"].transform(\"mean\")\n",
    "data.loc[data[\"Total Spent\"].isnull(), \"Total Spent\"] = data.groupby(\"Item\")[\"Total Spent\"].transform(\"mean\")\n",
    "\n",
    "data.isnull().sum()\n"
   ]
  },
  {
   "cell_type": "markdown",
   "id": "a1beb97c-d21d-4528-bb51-786daa54b97a",
   "metadata": {},
   "source": [
    "### Fill in the missing values in the ‘Item’ variable.\n",
    "\n"
   ]
  },
  {
   "cell_type": "code",
   "execution_count": 14,
   "id": "da4b2139-c362-49b0-81d5-dabe9f7766ba",
   "metadata": {},
   "outputs": [
    {
     "name": "stdout",
     "output_type": "stream",
     "text": [
      "969\n"
     ]
    }
   ],
   "source": [
    "print(data['Item'].isnull().sum())  # Will show number of NaNs in 'Item'\n"
   ]
  },
  {
   "cell_type": "code",
   "execution_count": 15,
   "id": "8a9762fe-2db7-48b1-867a-d6e6b90e35cd",
   "metadata": {},
   "outputs": [
    {
     "data": {
      "text/plain": [
       "Transaction ID         0\n",
       "Item                   6\n",
       "Quantity               3\n",
       "Price Per Unit         6\n",
       "Total Spent            3\n",
       "Payment Method      3178\n",
       "Location            3961\n",
       "Transaction Date     460\n",
       "Item_New               6\n",
       "dtype: int64"
      ]
     },
     "execution_count": 15,
     "metadata": {},
     "output_type": "execute_result"
    }
   ],
   "source": [
    "price_to_item = {\n",
    "    3.000: \"Juice\",\n",
    "    2.000: \"Coffee\",\n",
    "    1.000: \"Cookie\",\n",
    "    3.000: \"Cake\",\n",
    "    5.000: \"Salad\",\n",
    "    4.000: \"Sandwich\",\n",
    "    4.000: \"Smoothie\",\n",
    "    1.500: \"Tea\"\n",
    "}\n",
    "data[\"Item_New\"] = data[\"Item\"].copy()\n",
    "\n",
    "data.loc[data['Item_New'].isnull(), 'Item_New']= data['Price Per Unit'].map(price_to_item)\n",
    "data['Item']= data['Item_New']\n",
    "data.isnull().sum()"
   ]
  },
  {
   "cell_type": "code",
   "execution_count": 16,
   "id": "c481e1dd-d706-4d5d-9732-72105fc09d87",
   "metadata": {},
   "outputs": [
    {
     "name": "stderr",
     "output_type": "stream",
     "text": [
      "C:\\Users\\cex\\AppData\\Local\\Temp\\ipykernel_14376\\3951378559.py:2: FutureWarning: The default of observed=False is deprecated and will be changed to True in a future version of pandas. Pass observed=False to retain current behavior or observed=True to adopt the future default and silence this warning.\n",
      "  data.loc[data[\"Quantity\"].isnull(), \"Quantity\"] = data.groupby(\"Item\")[\"Quantity\"].transform(\"mean\")\n",
      "C:\\Users\\cex\\AppData\\Local\\Temp\\ipykernel_14376\\3951378559.py:3: FutureWarning: The default of observed=False is deprecated and will be changed to True in a future version of pandas. Pass observed=False to retain current behavior or observed=True to adopt the future default and silence this warning.\n",
      "  data.loc[data[\"Total Spent\"].isnull(), \"Total Spent\"] = data.groupby(\"Item\")[\"Total Spent\"].transform(\"mean\")\n"
     ]
    },
    {
     "data": {
      "text/plain": [
       "Transaction ID         0\n",
       "Item                   0\n",
       "Quantity               3\n",
       "Price Per Unit         0\n",
       "Total Spent            3\n",
       "Payment Method      3178\n",
       "Location            3961\n",
       "Transaction Date     460\n",
       "Item_New               6\n",
       "dtype: int64"
      ]
     },
     "execution_count": 16,
     "metadata": {},
     "output_type": "execute_result"
    }
   ],
   "source": [
    "# Filling with average again for ‘Quantity’\n",
    "data.loc[data[\"Quantity\"].isnull(), \"Quantity\"] = data.groupby(\"Item\")[\"Quantity\"].transform(\"mean\")\n",
    "data.loc[data[\"Total Spent\"].isnull(), \"Total Spent\"] = data.groupby(\"Item\")[\"Total Spent\"].transform(\"mean\")\n",
    "\n",
    "# We filled the missing values of ‘Price Per Unit’ with the average\n",
    "data.loc[data[\"Price Per Unit\"].isnull(), \"Price Per Unit\"] = data[\"Price Per Unit\"].mean()\n",
    "\n",
    "# We filled the missing values of ‘Item’ with mode (the most frequent value)\n",
    "data.loc[data[\"Item\"].isnull(), \"Item\"] = data[\"Item\"].mode()[0]\n",
    "\n",
    "data.isnull().sum()"
   ]
  },
  {
   "cell_type": "code",
   "execution_count": 17,
   "id": "a0e095a6-1b77-4248-9f42-b0a26d06fea1",
   "metadata": {},
   "outputs": [],
   "source": [
    "payment_methods = data['Payment Method'].dropna().unique()\n"
   ]
  },
  {
   "cell_type": "code",
   "execution_count": 18,
   "id": "3cfb1e9e-6ac1-42bd-a1bd-265f203bc405",
   "metadata": {},
   "outputs": [
    {
     "data": {
      "text/plain": [
       "['Credit Card', 'Cash', 'Digital Wallet']\n",
       "Categories (3, object): ['Cash', 'Credit Card', 'Digital Wallet']"
      ]
     },
     "execution_count": 18,
     "metadata": {},
     "output_type": "execute_result"
    }
   ],
   "source": [
    "payment_methods"
   ]
  },
  {
   "cell_type": "code",
   "execution_count": 19,
   "id": "a68c13bc-91d3-4b57-8b95-4592bda38f34",
   "metadata": {},
   "outputs": [
    {
     "data": {
      "text/plain": [
       "Transaction ID         0\n",
       "Item                   0\n",
       "Quantity               3\n",
       "Price Per Unit         0\n",
       "Total Spent            3\n",
       "Payment Method         0\n",
       "Location            3961\n",
       "Transaction Date     460\n",
       "Item_New               6\n",
       "dtype: int64"
      ]
     },
     "execution_count": 19,
     "metadata": {},
     "output_type": "execute_result"
    }
   ],
   "source": [
    "data['Payment Method'] = data['Payment Method'].astype('object')\n",
    "#payment_methods = data['Payment Method'].value_counts(normalize=True)\n",
    "data.loc[data['Payment Method'].isna(), 'Payment Method']= np.random.choice(payment_methods, size=data['Payment Method'].isna().sum())\n",
    "data.isnull().sum()"
   ]
  },
  {
   "cell_type": "code",
   "execution_count": 20,
   "id": "43fc35bd-9809-474c-9e40-0f24fe1d9a57",
   "metadata": {},
   "outputs": [
    {
     "data": {
      "text/plain": [
       "Transaction ID        0\n",
       "Item                  0\n",
       "Quantity              3\n",
       "Price Per Unit        0\n",
       "Total Spent           3\n",
       "Payment Method        0\n",
       "Location              0\n",
       "Transaction Date    460\n",
       "Item_New              6\n",
       "dtype: int64"
      ]
     },
     "execution_count": 20,
     "metadata": {},
     "output_type": "execute_result"
    }
   ],
   "source": [
    "location_probs = data[\"Location\"].value_counts(normalize=True)  # Calculate the distribution of Location\n",
    "data['Location'] = data['Location'].astype('object')\n",
    "\n",
    "# Filling in missing ‘Location’ values according to random distribution\n",
    "data.loc[data[\"Location\"].isna(), \"Location\"] = np.random.choice(\n",
    "    location_probs.index,  # Location options [\"Takeaway\",\"In-stor\"]\n",
    "    size=data[\"Location\"].isna().sum(),  # Select the number of missing rows\n",
    "    p=location_probs.values)  # Determining the probabilities of elections\n",
    "\n",
    "data.isnull().sum()"
   ]
  },
  {
   "cell_type": "code",
   "execution_count": 21,
   "id": "c9245456-e2fb-450c-93cd-3196fe93d884",
   "metadata": {},
   "outputs": [],
   "source": [
    "data.drop('Item_New', axis=1, inplace=True)\n"
   ]
  },
  {
   "cell_type": "code",
   "execution_count": 22,
   "id": "4c1ead7e-8593-4994-a164-e5e2bc30c247",
   "metadata": {},
   "outputs": [
    {
     "data": {
      "text/plain": [
       "Transaction ID      0\n",
       "Item                0\n",
       "Quantity            3\n",
       "Price Per Unit      0\n",
       "Total Spent         3\n",
       "Payment Method      0\n",
       "Location            0\n",
       "Transaction Date    0\n",
       "dtype: int64"
      ]
     },
     "execution_count": 22,
     "metadata": {},
     "output_type": "execute_result"
    }
   ],
   "source": [
    "Trans_probs = data[\"Transaction Date\"].value_counts(normalize=True)  # Calculate the distribution of Location\n",
    "data['Transaction Date'] = data['Transaction Date'].astype('object')\n",
    "\n",
    "# Filling in missing ‘Location’ values according to random distribution\n",
    "data.loc[data[\"Transaction Date\"].isna(), \"Transaction Date\"] = np.random.choice(\n",
    "    Trans_probs.index,  # Location options [\"Takeaway\",\"In-stor\"]\n",
    "    size=data[\"Transaction Date\"].isna().sum(),  # Select the number of missing rows\n",
    "    p=Trans_probs.values)  # Determining the probabilities of elections\n",
    "\n",
    "data.isnull().sum()"
   ]
  },
  {
   "cell_type": "code",
   "execution_count": 23,
   "id": "cac688d6-a82e-45e3-b926-b44b70ce163c",
   "metadata": {},
   "outputs": [
    {
     "data": {
      "text/plain": [
       "<Axes: xlabel='Quantity'>"
      ]
     },
     "execution_count": 23,
     "metadata": {},
     "output_type": "execute_result"
    },
    {
     "data": {
      "image/png": "[encoded data removed]",
      "text/plain": [
       "<Figure size 640x480 with 1 Axes>"
      ]
     },
     "metadata": {},
     "output_type": "display_data"
    }
   ],
   "source": [
    "sns.boxplot(x=data['Quantity'])"
   ]
  },
  {
   "cell_type": "code",
   "execution_count": 24,
   "id": "a48ad936-735a-42bd-bac0-1ea0fc92d783",
   "metadata": {},
   "outputs": [
    {
     "data": {
      "text/plain": [
       "<Axes: xlabel='Price Per Unit'>"
      ]
     },
     "execution_count": 24,
     "metadata": {},
     "output_type": "execute_result"
    },
    {
     "data": {
      "image/png": "[encoded data removed]",
      "text/plain": [
       "<Figure size 640x480 with 1 Axes>"
      ]
     },
     "metadata": {},
     "output_type": "display_data"
    }
   ],
   "source": [
    "sns.boxplot(x=data['Price Per Unit'])"
   ]
  },
  {
   "cell_type": "code",
   "execution_count": 25,
   "id": "6792361f-d0ab-43a7-bec5-6ce70b1a1261",
   "metadata": {},
   "outputs": [
    {
     "data": {
      "text/plain": [
       "<Axes: xlabel='Total Spent'>"
      ]
     },
     "execution_count": 25,
     "metadata": {},
     "output_type": "execute_result"
    },
    {
     "data": {
      "image/png": "[encoded data removed]",
      "text/plain": [
       "<Figure size 640x480 with 1 Axes>"
      ]
     },
     "metadata": {},
     "output_type": "display_data"
    }
   ],
   "source": [
    "sns.boxplot(x=data['Total Spent'])"
   ]
  },
  {
   "cell_type": "code",
   "execution_count": 26,
   "id": "6994ebc1-2a5a-4324-a91f-8de31d3190f7",
   "metadata": {},
   "outputs": [
    {
     "data": {
      "image/png": "[encoded data removed]",
      "text/plain": [
       "<Figure size 1800x1500 with 5 Axes>"
      ]
     },
     "metadata": {},
     "output_type": "display_data"
    }
   ],
   "source": [
    "fig, axes = plt.subplots(2, 2, figsize=(18, 15))\n",
    "\n",
    "# Plot 1: Quantity vs Price Per Unit\n",
    "sns.scatterplot(x=data['Quantity'], y=data['Price Per Unit'], alpha=0.5, ax=axes[0, 0])\n",
    "axes[0, 0].set_title(\"Quantity vs Price Per Unit\")\n",
    "\n",
    "# Plot 2: Location vs Total Spent\n",
    "sns.boxplot(x=data['Location'], y=data['Total Spent'], ax=axes[0, 1])\n",
    "axes[0, 1].set_title(\"Location vs Total Spent\")\n",
    "axes[0, 1].tick_params(axis='x', rotation=45)\n",
    "\n",
    "# Plot 3: Payment Method vs Total Spent\n",
    "sns.boxplot(x=data['Payment Method'], y=data['Total Spent'], ax=axes[1, 0])\n",
    "axes[1, 0].set_title(\"Payment Method vs Total Spent\")\n",
    "axes[1, 0].tick_params(axis='x', rotation=45)\n",
    "\n",
    "# Plot 4: Heatmap of Correlation Matrix\n",
    "corr = data.corr(numeric_only=True)\n",
    "sns.heatmap(corr, annot=True, cmap=\"coolwarm\", ax=axes[1, 1])\n",
    "axes[1, 1].set_title(\"Correlation Heatmap\")\n",
    "\n",
    "# Adjusting layout and showing plots\n",
    "plt.tight_layout()\n",
    "plt.show()\n"
   ]
  },
  {
   "cell_type": "code",
   "execution_count": null,
   "id": "d7f831e3-731b-4183-b672-f36dcc031e21",
   "metadata": {},
   "outputs": [],
   "source": []
  }
 ],
 "metadata": {
  "kernelspec": {
   "display_name": "Python [conda env:base] *",
   "language": "python",
   "name": "conda-base-py"
  },
  "language_info": {
   "codemirror_mode": {
    "name": "ipython",
    "version": 3
   },
   "file_extension": ".py",
   "mimetype": "text/x-python",
   "name": "python",
   "nbconvert_exporter": "python",
   "pygments_lexer": "ipython3",
   "version": "3.12.7"
  }
 },
 "nbformat": 4,
 "nbformat_minor": 5
}
